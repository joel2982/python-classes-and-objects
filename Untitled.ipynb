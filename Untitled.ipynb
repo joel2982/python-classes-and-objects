{
 "cells": [
  {
   "cell_type": "markdown",
   "id": "288d2559",
   "metadata": {},
   "source": [
    "# Classes "
   ]
  },
  {
   "cell_type": "markdown",
   "id": "656fa683",
   "metadata": {},
   "source": [
    "### Inheritance"
   ]
  },
  {
   "cell_type": "code",
   "execution_count": 1,
   "id": "49313b5c",
   "metadata": {},
   "outputs": [],
   "source": [
    "class MainClass:\n",
    "    main_attribute = 90\n",
    "    \n",
    "    def __init__(self,value):\n",
    "        self.value = value\n",
    "    \n",
    "    def main_func(self):\n",
    "        print('Main Class',self.value)"
   ]
  },
  {
   "cell_type": "code",
   "execution_count": 2,
   "id": "0bc81488",
   "metadata": {},
   "outputs": [
    {
     "name": "stdout",
     "output_type": "stream",
     "text": [
      "90\n",
      "36\n",
      "Main Class 36\n"
     ]
    }
   ],
   "source": [
    "main_instance1 = MainClass(36)\n",
    "print(main_instance1.main_attribute)\n",
    "print(main_instance1.value)\n",
    "main_instance1.main_func()"
   ]
  },
  {
   "cell_type": "code",
   "execution_count": 3,
   "id": "c85e127a",
   "metadata": {},
   "outputs": [],
   "source": [
    "class ChildClass(MainClass):\n",
    "    child_attribute = 35\n",
    "    \n",
    "    def __init__(self,val):\n",
    "        self.val = val\n",
    "    \n",
    "    def child_func(self):\n",
    "        print(\"Child Class\",self.val)"
   ]
  },
  {
   "cell_type": "code",
   "execution_count": 4,
   "id": "f93135f1",
   "metadata": {},
   "outputs": [
    {
     "name": "stdout",
     "output_type": "stream",
     "text": [
      "35\n",
      "36\n",
      "Child Class 36\n"
     ]
    }
   ],
   "source": [
    "class_instance1 = ChildClass(36)\n",
    "print(class_instance1.child_attribute)\n",
    "print(class_instance1.val)\n",
    "class_instance1.child_func()"
   ]
  },
  {
   "cell_type": "code",
   "execution_count": null,
   "id": "bcf285f1",
   "metadata": {},
   "outputs": [],
   "source": []
  }
 ],
 "metadata": {
  "kernelspec": {
   "display_name": "Python 3 (ipykernel)",
   "language": "python",
   "name": "python3"
  },
  "language_info": {
   "codemirror_mode": {
    "name": "ipython",
    "version": 3
   },
   "file_extension": ".py",
   "mimetype": "text/x-python",
   "name": "python",
   "nbconvert_exporter": "python",
   "pygments_lexer": "ipython3",
   "version": "3.11.3"
  }
 },
 "nbformat": 4,
 "nbformat_minor": 5
}
